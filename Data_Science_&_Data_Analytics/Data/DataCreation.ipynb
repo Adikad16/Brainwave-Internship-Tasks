{
 "cells": [
  {
   "cell_type": "code",
   "execution_count": 1,
   "id": "bf8994f4-9960-4f6f-a7d3-db9e714001ef",
   "metadata": {},
   "outputs": [],
   "source": [
    "import pandas as pd\n",
    "import numpy as np\n",
    "from datetime import datetime, timedelta"
   ]
  },
  {
   "cell_type": "code",
   "execution_count": 2,
   "id": "fe9ff28d-5e3c-4c68-b30c-84a4a4321e1c",
   "metadata": {},
   "outputs": [],
   "source": [
    "np.random.seed(42)\n"
   ]
  },
  {
   "cell_type": "code",
   "execution_count": 3,
   "id": "b9583131-ba69-4c8c-b913-4176b47185c1",
   "metadata": {},
   "outputs": [],
   "source": [
    "num_records = 1000\n",
    "start_date = datetime(2023, 1, 1)\n",
    "end_date = datetime(2023, 12, 31)"
   ]
  },
  {
   "cell_type": "code",
   "execution_count": 4,
   "id": "6817f4d2-73bb-401a-8ff3-6926b0c2c2fc",
   "metadata": {},
   "outputs": [],
   "source": [
    "dates = [start_date + timedelta(days=np.random.randint(0, (end_date - start_date).days)) for _ in range(num_records)]\n",
    "products = ['Product A', 'Product B', 'Product C', 'Product D', 'Product E']\n",
    "quantities = np.random.randint(1, 20, size=num_records)\n",
    "prices = np.random.uniform(10.0, 100.0, size=num_records)"
   ]
  },
  {
   "cell_type": "code",
   "execution_count": 5,
   "id": "1f6981bf-c50d-450e-9ba9-fd9e0215f905",
   "metadata": {},
   "outputs": [],
   "source": [
    "total_sales = quantities * prices"
   ]
  },
  {
   "cell_type": "code",
   "execution_count": 6,
   "id": "fae76e7f-9c2c-468b-917d-ba4e4aa6cd16",
   "metadata": {},
   "outputs": [],
   "source": [
    "sales_data = pd.DataFrame({\n",
    "    'Date': dates,\n",
    "    'Product': np.random.choice(products, size=num_records),\n",
    "    'Quantity': quantities,\n",
    "    'Price': prices,\n",
    "    'Total_Sales': total_sales\n",
    "})\n"
   ]
  },
  {
   "cell_type": "code",
   "execution_count": 8,
   "id": "b0d1c30d-e6a4-4f8f-a223-1888cfd37a99",
   "metadata": {},
   "outputs": [
    {
     "name": "stdout",
     "output_type": "stream",
     "text": [
      "Sample sales data generated and saved to 'sales_data.csv'.\n"
     ]
    }
   ],
   "source": [
    "sales_data.to_csv('sales_data.csv', index=False)\n",
    "print(\"Sample sales data generated and saved to 'sales_data.csv'.\")"
   ]
  },
  {
   "cell_type": "code",
   "execution_count": null,
   "id": "cdf7fe42-4a62-4b1e-b072-2a7a5240f0ee",
   "metadata": {},
   "outputs": [],
   "source": []
  },
  {
   "cell_type": "code",
   "execution_count": null,
   "id": "01b9703e-2b97-4910-b997-63eb6593bef6",
   "metadata": {},
   "outputs": [],
   "source": []
  },
  {
   "cell_type": "code",
   "execution_count": null,
   "id": "cdf922da-44b7-4b2c-a7a5-99ef3b866bfa",
   "metadata": {},
   "outputs": [],
   "source": []
  }
 ],
 "metadata": {
  "kernelspec": {
   "display_name": "Python 3 (ipykernel)",
   "language": "python",
   "name": "python3"
  },
  "language_info": {
   "codemirror_mode": {
    "name": "ipython",
    "version": 3
   },
   "file_extension": ".py",
   "mimetype": "text/x-python",
   "name": "python",
   "nbconvert_exporter": "python",
   "pygments_lexer": "ipython3",
   "version": "3.12.2"
  }
 },
 "nbformat": 4,
 "nbformat_minor": 5
}
